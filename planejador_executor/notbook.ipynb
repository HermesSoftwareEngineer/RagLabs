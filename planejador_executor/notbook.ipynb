{
 "cells": [
  {
   "cell_type": "markdown",
   "id": "fe8fa76c",
   "metadata": {},
   "source": [
    "## Agente Planejador-Executor"
   ]
  },
  {
   "cell_type": "code",
   "execution_count": 1,
   "id": "222cc138",
   "metadata": {},
   "outputs": [
    {
     "data": {
      "text/plain": [
       "'Olá, Mundo! 👋 😄\\n\\nQue bom te ver por aqui! ✨  O que você gostaria de fazer hoje? 😊 \\n'"
      ]
     },
     "execution_count": 1,
     "metadata": {},
     "output_type": "execute_result"
    }
   ],
   "source": [
    "from langchain_google_vertexai import ChatVertexAI\n",
    "\n",
    "llm = ChatVertexAI(model_name=\"gemini-1.5-flash\")\n",
    "\n",
    "llm.invoke(\"Olá, Mundo!\").content"
   ]
  },
  {
   "cell_type": "code",
   "execution_count": null,
   "id": "8a13e413",
   "metadata": {},
   "outputs": [],
   "source": [
    "# Definindo o estado\n",
    "\n",
    "import operator\n",
    "from typing_extensions import TypedDict\n",
    "from typing import Annotated, List, Tuple\n",
    "\n",
    "class PlanExecute(TypedDict):\n",
    "    input: str\n",
    "    plan: List[str]\n",
    "    past_steps: Annotated[List[Tuple], operator.add]\n",
    "    response: str"
   ]
  },
  {
   "cell_type": "code",
   "execution_count": 4,
   "id": "8b374eb4",
   "metadata": {},
   "outputs": [],
   "source": [
    "# Estrutura de resposta do LLM para a etapa de planejamento\n",
    "\n",
    "from pydantic import BaseModel, Field\n",
    "\n",
    "class Plan(BaseModel):\n",
    "    \"\"\"Plano a seguir no futuro\"\"\"\n",
    "\n",
    "    steps: List[str] = Field(\n",
    "        description=\"diferentes etapas a seguir, devem estar em ordem de classificação\"\n",
    "    )"
   ]
  },
  {
   "cell_type": "code",
   "execution_count": 6,
   "id": "cb8af574",
   "metadata": {},
   "outputs": [],
   "source": [
    "# Codando o planner agent\n",
    "\n",
    "from langchain_core.prompts import ChatPromptTemplate\n",
    "\n",
    "planner_prompt = ChatPromptTemplate.from_messages(\n",
    "    [\n",
    "        (\n",
    "            \"system\",\n",
    "            \"\"\"Para o objetivo dado, crie um plano simples passo a passo. \\\n",
    "            Este plano deve envolver tarefas individuais que, se executadas corretamente, produzirão a resposta correta. Não adicione nenhuma etapa supérflua. \\\n",
    "            O resultado da etapa final deve ser a resposta final. Certifique-se de que cada etapa tenha todas as informações necessárias - não pule etapas.\"\"\",\n",
    "        ),\n",
    "        (\n",
    "            \"placeholder\",\n",
    "            \"{messages}\"\n",
    "        )\n",
    "    ]\n",
    ")\n",
    "\n",
    "planner = planner_prompt | llm.with_structured_output(Plan)"
   ]
  },
  {
   "cell_type": "code",
   "execution_count": 11,
   "id": "3c28e413",
   "metadata": {},
   "outputs": [
    {
     "data": {
      "text/plain": [
       "Plan(steps=['Encontrar as 3 maiores capitais do Brasil em termos de população.', 'Encontrar o ano em que cada uma dessas capitais foi fundada.', 'Combinar o nome da capital com o ano de fundação.'])"
      ]
     },
     "execution_count": 11,
     "metadata": {},
     "output_type": "execute_result"
    }
   ],
   "source": [
    "# Testando o planner\n",
    "\n",
    "planner.invoke(\n",
    "    {\n",
    "        \"messages\": [\n",
    "            (\n",
    "                \"user\",\n",
    "                \"Em que ano foi construído as 3 maiores capitais do Brasil?\"\n",
    "            )\n",
    "        ]\n",
    "    }\n",
    ")"
   ]
  },
  {
   "cell_type": "code",
   "execution_count": 13,
   "id": "163f6db3",
   "metadata": {},
   "outputs": [
    {
     "name": "stderr",
     "output_type": "stream",
     "text": [
      "Key '$defs' is not supported in schema, ignoring\n"
     ]
    }
   ],
   "source": [
    "from typing import Union\n",
    "\n",
    "class Response(BaseModel):\n",
    "    \"\"\"Responder ao usuário\"\"\"\n",
    "    \n",
    "    response: str\n",
    "\n",
    "class Act(BaseModel):\n",
    "    \"\"\"Ação a ser executada\"\"\"\n",
    "\n",
    "    action: Union[Response, Plan] = Field(\n",
    "        description=\"Ação a ser executada. Se você quiser responder ao usuário, use Response. Se você precisar usar mais ferramentas para obter a resposta, use Plan.\"\n",
    "    )\n",
    "\n",
    "prompt_replanner = ChatPromptTemplate.from_messages(\n",
    "    [\n",
    "        (\n",
    "            \"system\",\n",
    "            \"\"\"Para o objetivo dado, crie um plano simples passo a passo. \\\n",
    "            Este plano deve envolver tarefas individuais que, se executadas corretamente, produzirão a resposta correta. Não adicione etapas supérfluas. \\\n",
    "            O resultado da etapa final deve ser a resposta final. Certifique-se de que cada etapa tenha todas as informações necessárias - não pule etapas.\n",
    "\n",
    "            Seu objetivo era este:\n",
    "            {input}\n",
    "\n",
    "            Seu plano original era este:\n",
    "            {plan}\n",
    "\n",
    "            Você atualmente fez as seguintes etapas:\n",
    "            {past_steps}\n",
    "\n",
    "            Atualize seu plano adequadamente. Se não forem necessárias mais etapas e você puder retornar ao usuário, responda com isso. Caso contrário, preencha o plano. Adicione apenas etapas ao plano que ainda PRECISAM ser feitas. Não retorne etapas feitas anteriormente como parte do plano.\"\"\"\n",
    "        )\n",
    "    ]\n",
    ")\n",
    "\n",
    "replanner = prompt_replanner | llm.with_structured_output(Act)\n"
   ]
  },
  {
   "cell_type": "code",
   "execution_count": 26,
   "id": "1ac6d44b",
   "metadata": {},
   "outputs": [],
   "source": [
    "from typing import Literal\n",
    "from langgraph.graph import END\n",
    "\n",
    "async def execute_steps(state: PlanExecute):\n",
    "    plan = state['plan']\n",
    "    plan_str = \"\\n\".join(f\"{i+1}.{step}\" for i, step in enumerate(plan))\n",
    "    task = plan[0]\n",
    "    task_formatted = f\"\"\"Dentro do planejamento: {plan_str}\\n\n",
    "    Você deve executar a tarefa {1}: {task}\"\"\"\n",
    "\n",
    "    agent_response = await llm.ainvoke(task_formatted)\n",
    "\n",
    "    return {\n",
    "        \"past_steps\": [(task, agent_response[\"messages\"][-1].content)]\n",
    "    }\n",
    "\n",
    "async def plan_step(state: PlanExecute):\n",
    "    plan = await planner.ainvoke({\"messages\": [(\"user\", state[\"input\"])]})\n",
    "    return {\n",
    "        \"plan\": plan.steps\n",
    "    }\n",
    "\n",
    "async def replan_step(state: PlanExecute):\n",
    "    output = await replanner.ainvoke(state)\n",
    "    if isinstance(output.action, Response):\n",
    "        return {\"response\": output.action.response}\n",
    "    else:\n",
    "        return {\"plan\": output.action.steps}\n",
    "    \n",
    "async def should_end(state: PlanExecute):\n",
    "    if \"response\" in state and state[\"response\"]:\n",
    "        return END\n",
    "    else:\n",
    "        return \"agent\""
   ]
  },
  {
   "cell_type": "code",
   "execution_count": 43,
   "id": "b92e6447",
   "metadata": {},
   "outputs": [],
   "source": [
    "from langgraph.graph import StateGraph, START\n",
    "\n",
    "# Inciando o grafo\n",
    "graph_builder = StateGraph(PlanExecute)\n",
    "\n",
    "# Adicionando os nós\n",
    "graph_builder.add_node(\"planner\", plan_step)\n",
    "graph_builder.add_node(\"agent\", execute_steps)\n",
    "graph_builder.add_node(\"replanner\", replan_step)\n",
    "\n",
    "# Configurando as pontes (edges)\n",
    "graph_builder.add_edge(START, \"planner\")\n",
    "graph_builder.add_edge(\"planner\", \"agent\")\n",
    "graph_builder.add_edge(\"agent\", \"replanner\")\n",
    "graph_builder.add_conditional_edges(\"replanner\", should_end, [\"agent\", END])\n",
    "\n",
    "# Compilando o grafo e preparando para execução\n",
    "app = graph_builder.compile()"
   ]
  },
  {
   "cell_type": "code",
   "execution_count": 29,
   "id": "a908c000",
   "metadata": {},
   "outputs": [
    {
     "data": {
      "image/png": "[encoded data removed]",
      "text/plain": [
       "<IPython.core.display.Image object>"
      ]
     },
     "metadata": {},
     "output_type": "display_data"
    }
   ],
   "source": [
    "from IPython.display import Image, display\n",
    "\n",
    "display(Image(app.get_graph(xray=True).draw_mermaid_png()))"
   ]
  },
  {
   "cell_type": "code",
   "execution_count": 58,
   "id": "fa54fbb9",
   "metadata": {
    "vscode": {
     "languageId": "javascript"
    }
   },
   "outputs": [
    {
     "ename": "InvalidUpdateError",
     "evalue": "Must write to at least one of ['query', 'plan', 'past_steps', 'response']",
     "output_type": "error",
     "traceback": [
      "\u001b[31m---------------------------------------------------------------------------\u001b[39m",
      "\u001b[31mInvalidUpdateError\u001b[39m                        Traceback (most recent call last)",
      "\u001b[36mCell\u001b[39m\u001b[36m \u001b[39m\u001b[32mIn[58]\u001b[39m\u001b[32m, line 1\u001b[39m\n\u001b[32m----> \u001b[39m\u001b[32m1\u001b[39m result = \u001b[38;5;28;01mawait\u001b[39;00m app.ainvoke({\n\u001b[32m      2\u001b[39m     \u001b[33m\"\u001b[39m\u001b[33minput\u001b[39m\u001b[33m\"\u001b[39m: \u001b[33m\"\u001b[39m\u001b[33mWho won the 2024 Australian Open men\u001b[39m\u001b[33m'\u001b[39m\u001b[33ms title?\u001b[39m\u001b[33m\"\u001b[39m,\n\u001b[32m      3\u001b[39m })\n",
      "\u001b[36mFile \u001b[39m\u001b[32mc:\\Users\\Asus\\PROJETOS_DEV\\RagLabs\\.venv\\Lib\\site-packages\\langgraph\\pregel\\__init__.py:2389\u001b[39m, in \u001b[36mPregel.ainvoke\u001b[39m\u001b[34m(self, input, config, stream_mode, output_keys, interrupt_before, interrupt_after, debug, **kwargs)\u001b[39m\n\u001b[32m   2387\u001b[39m \u001b[38;5;28;01melse\u001b[39;00m:\n\u001b[32m   2388\u001b[39m     chunks = []\n\u001b[32m-> \u001b[39m\u001b[32m2389\u001b[39m \u001b[38;5;28;01masync\u001b[39;00m \u001b[38;5;28;01mfor\u001b[39;00m chunk \u001b[38;5;129;01min\u001b[39;00m \u001b[38;5;28mself\u001b[39m.astream(\n\u001b[32m   2390\u001b[39m     \u001b[38;5;28minput\u001b[39m,\n\u001b[32m   2391\u001b[39m     config,\n\u001b[32m   2392\u001b[39m     stream_mode=stream_mode,\n\u001b[32m   2393\u001b[39m     output_keys=output_keys,\n\u001b[32m   2394\u001b[39m     interrupt_before=interrupt_before,\n\u001b[32m   2395\u001b[39m     interrupt_after=interrupt_after,\n\u001b[32m   2396\u001b[39m     debug=debug,\n\u001b[32m   2397\u001b[39m     **kwargs,\n\u001b[32m   2398\u001b[39m ):\n\u001b[32m   2399\u001b[39m     \u001b[38;5;28;01mif\u001b[39;00m stream_mode == \u001b[33m\"\u001b[39m\u001b[33mvalues\u001b[39m\u001b[33m\"\u001b[39m:\n\u001b[32m   2400\u001b[39m         latest = chunk\n",
      "\u001b[36mFile \u001b[39m\u001b[32m~\\AppData\\Local\\Programs\\Python\\Python311\\Lib\\contextlib.py:222\u001b[39m, in \u001b[36m_AsyncGeneratorContextManager.__aexit__\u001b[39m\u001b[34m(self, typ, value, traceback)\u001b[39m\n\u001b[32m    220\u001b[39m     value = typ()\n\u001b[32m    221\u001b[39m \u001b[38;5;28;01mtry\u001b[39;00m:\n\u001b[32m--> \u001b[39m\u001b[32m222\u001b[39m     \u001b[38;5;28;01mawait\u001b[39;00m \u001b[38;5;28mself\u001b[39m.gen.athrow(typ, value, traceback)\n\u001b[32m    223\u001b[39m \u001b[38;5;28;01mexcept\u001b[39;00m \u001b[38;5;167;01mStopAsyncIteration\u001b[39;00m \u001b[38;5;28;01mas\u001b[39;00m exc:\n\u001b[32m    224\u001b[39m     \u001b[38;5;66;03m# Suppress StopIteration *unless* it's the same exception that\u001b[39;00m\n\u001b[32m    225\u001b[39m     \u001b[38;5;66;03m# was passed to throw().  This prevents a StopIteration\u001b[39;00m\n\u001b[32m    226\u001b[39m     \u001b[38;5;66;03m# raised inside the \"with\" statement from being suppressed.\u001b[39;00m\n\u001b[32m    227\u001b[39m     \u001b[38;5;28;01mreturn\u001b[39;00m exc \u001b[38;5;129;01mis\u001b[39;00m \u001b[38;5;129;01mnot\u001b[39;00m value\n",
      "\u001b[36mFile \u001b[39m\u001b[32mc:\\Users\\Asus\\PROJETOS_DEV\\RagLabs\\.venv\\Lib\\site-packages\\langgraph\\pregel\\manager.py:90\u001b[39m, in \u001b[36mAsyncChannelsManager\u001b[39m\u001b[34m(specs, checkpoint, loop, skip_context)\u001b[39m\n\u001b[32m     88\u001b[39m \u001b[38;5;28;01melse\u001b[39;00m:\n\u001b[32m     89\u001b[39m     done = \u001b[38;5;28mset\u001b[39m()\n\u001b[32m---> \u001b[39m\u001b[32m90\u001b[39m \u001b[38;5;28;01myield\u001b[39;00m (\n\u001b[32m     91\u001b[39m     \u001b[38;5;66;03m# channels: enter each channel with checkpoint\u001b[39;00m\n\u001b[32m     92\u001b[39m     {\n\u001b[32m     93\u001b[39m         k: v.from_checkpoint(checkpoint[\u001b[33m\"\u001b[39m\u001b[33mchannel_values\u001b[39m\u001b[33m\"\u001b[39m].get(k))\n\u001b[32m     94\u001b[39m         \u001b[38;5;28;01mfor\u001b[39;00m k, v \u001b[38;5;129;01min\u001b[39;00m channel_specs.items()\n\u001b[32m     95\u001b[39m     },\n\u001b[32m     96\u001b[39m     \u001b[38;5;66;03m# managed: build mapping from spec to result\u001b[39;00m\n\u001b[32m     97\u001b[39m     ManagedValueMapping({tasks[task]: task.result() \u001b[38;5;28;01mfor\u001b[39;00m task \u001b[38;5;129;01min\u001b[39;00m done}),\n\u001b[32m     98\u001b[39m )\n",
      "\u001b[36mFile \u001b[39m\u001b[32mc:\\Users\\Asus\\PROJETOS_DEV\\RagLabs\\.venv\\Lib\\site-packages\\langgraph\\pregel\\__init__.py:2274\u001b[39m, in \u001b[36mPregel.astream\u001b[39m\u001b[34m(self, input, config, stream_mode, output_keys, interrupt_before, interrupt_after, debug, subgraphs)\u001b[39m\n\u001b[32m   2268\u001b[39m \u001b[38;5;66;03m# Similarly to Bulk Synchronous Parallel / Pregel model\u001b[39;00m\n\u001b[32m   2269\u001b[39m \u001b[38;5;66;03m# computation proceeds in steps, while there are channel updates\u001b[39;00m\n\u001b[32m   2270\u001b[39m \u001b[38;5;66;03m# channel updates from step N are only visible in step N+1\u001b[39;00m\n\u001b[32m   2271\u001b[39m \u001b[38;5;66;03m# channels are guaranteed to be immutable for the duration of the step,\u001b[39;00m\n\u001b[32m   2272\u001b[39m \u001b[38;5;66;03m# with channel updates applied only at the transition between steps\u001b[39;00m\n\u001b[32m   2273\u001b[39m \u001b[38;5;28;01mwhile\u001b[39;00m loop.tick(input_keys=\u001b[38;5;28mself\u001b[39m.input_channels):\n\u001b[32m-> \u001b[39m\u001b[32m2274\u001b[39m     \u001b[38;5;28;01masync\u001b[39;00m \u001b[38;5;28;01mfor\u001b[39;00m _ \u001b[38;5;129;01min\u001b[39;00m runner.atick(\n\u001b[32m   2275\u001b[39m         loop.tasks.values(),\n\u001b[32m   2276\u001b[39m         timeout=\u001b[38;5;28mself\u001b[39m.step_timeout,\n\u001b[32m   2277\u001b[39m         retry_policy=\u001b[38;5;28mself\u001b[39m.retry_policy,\n\u001b[32m   2278\u001b[39m         get_waiter=get_waiter,\n\u001b[32m   2279\u001b[39m     ):\n\u001b[32m   2280\u001b[39m         \u001b[38;5;66;03m# emit output\u001b[39;00m\n\u001b[32m   2281\u001b[39m         \u001b[38;5;28;01mfor\u001b[39;00m o \u001b[38;5;129;01min\u001b[39;00m output():\n\u001b[32m   2282\u001b[39m             \u001b[38;5;28;01myield\u001b[39;00m o\n",
      "\u001b[36mFile \u001b[39m\u001b[32mc:\\Users\\Asus\\PROJETOS_DEV\\RagLabs\\.venv\\Lib\\site-packages\\langgraph\\pregel\\runner.py:444\u001b[39m, in \u001b[36mPregelRunner.atick\u001b[39m\u001b[34m(self, tasks, reraise, timeout, retry_policy, get_waiter)\u001b[39m\n\u001b[32m    442\u001b[39m t = tasks[\u001b[32m0\u001b[39m]\n\u001b[32m    443\u001b[39m \u001b[38;5;28;01mtry\u001b[39;00m:\n\u001b[32m--> \u001b[39m\u001b[32m444\u001b[39m     \u001b[38;5;28;01mawait\u001b[39;00m arun_with_retry(\n\u001b[32m    445\u001b[39m         t,\n\u001b[32m    446\u001b[39m         retry_policy,\n\u001b[32m    447\u001b[39m         stream=\u001b[38;5;28mself\u001b[39m.use_astream,\n\u001b[32m    448\u001b[39m         configurable={\n\u001b[32m    449\u001b[39m             CONFIG_KEY_SEND: partial(writer, t),\n\u001b[32m    450\u001b[39m             CONFIG_KEY_CALL: partial(call, t),\n\u001b[32m    451\u001b[39m         },\n\u001b[32m    452\u001b[39m     )\n\u001b[32m    453\u001b[39m     \u001b[38;5;28mself\u001b[39m.commit(t, \u001b[38;5;28;01mNone\u001b[39;00m)\n\u001b[32m    454\u001b[39m \u001b[38;5;28;01mexcept\u001b[39;00m \u001b[38;5;167;01mException\u001b[39;00m \u001b[38;5;28;01mas\u001b[39;00m exc:\n",
      "\u001b[36mFile \u001b[39m\u001b[32mc:\\Users\\Asus\\PROJETOS_DEV\\RagLabs\\.venv\\Lib\\site-packages\\langgraph\\pregel\\retry.py:128\u001b[39m, in \u001b[36marun_with_retry\u001b[39m\u001b[34m(task, retry_policy, stream, configurable)\u001b[39m\n\u001b[32m    126\u001b[39m         \u001b[38;5;28;01mbreak\u001b[39;00m\n\u001b[32m    127\u001b[39m     \u001b[38;5;28;01melse\u001b[39;00m:\n\u001b[32m--> \u001b[39m\u001b[32m128\u001b[39m         \u001b[38;5;28;01mreturn\u001b[39;00m \u001b[38;5;28;01mawait\u001b[39;00m task.proc.ainvoke(task.input, config)\n\u001b[32m    129\u001b[39m \u001b[38;5;28;01mexcept\u001b[39;00m ParentCommand \u001b[38;5;28;01mas\u001b[39;00m exc:\n\u001b[32m    130\u001b[39m     ns: \u001b[38;5;28mstr\u001b[39m = config[CONF][CONFIG_KEY_CHECKPOINT_NS]\n",
      "\u001b[36mFile \u001b[39m\u001b[32mc:\\Users\\Asus\\PROJETOS_DEV\\RagLabs\\.venv\\Lib\\site-packages\\langgraph\\utils\\runnable.py:583\u001b[39m, in \u001b[36mRunnableSeq.ainvoke\u001b[39m\u001b[34m(self, input, config, **kwargs)\u001b[39m\n\u001b[32m    579\u001b[39m config = patch_config(\n\u001b[32m    580\u001b[39m     config, callbacks=run_manager.get_child(\u001b[33mf\u001b[39m\u001b[33m\"\u001b[39m\u001b[33mseq:step:\u001b[39m\u001b[38;5;132;01m{\u001b[39;00mi\u001b[38;5;250m \u001b[39m+\u001b[38;5;250m \u001b[39m\u001b[32m1\u001b[39m\u001b[38;5;132;01m}\u001b[39;00m\u001b[33m\"\u001b[39m)\n\u001b[32m    581\u001b[39m )\n\u001b[32m    582\u001b[39m \u001b[38;5;28;01mif\u001b[39;00m i == \u001b[32m0\u001b[39m:\n\u001b[32m--> \u001b[39m\u001b[32m583\u001b[39m     \u001b[38;5;28minput\u001b[39m = \u001b[38;5;28;01mawait\u001b[39;00m step.ainvoke(\u001b[38;5;28minput\u001b[39m, config, **kwargs)\n\u001b[32m    584\u001b[39m \u001b[38;5;28;01melse\u001b[39;00m:\n\u001b[32m    585\u001b[39m     \u001b[38;5;28minput\u001b[39m = \u001b[38;5;28;01mawait\u001b[39;00m step.ainvoke(\u001b[38;5;28minput\u001b[39m, config)\n",
      "\u001b[36mFile \u001b[39m\u001b[32mc:\\Users\\Asus\\PROJETOS_DEV\\RagLabs\\.venv\\Lib\\site-packages\\langgraph\\utils\\runnable.py:359\u001b[39m, in \u001b[36mRunnableCallable.ainvoke\u001b[39m\u001b[34m(self, input, config, **kwargs)\u001b[39m\n\u001b[32m    357\u001b[39m coro = cast(Coroutine[\u001b[38;5;28;01mNone\u001b[39;00m, \u001b[38;5;28;01mNone\u001b[39;00m, Any], \u001b[38;5;28mself\u001b[39m.afunc(*args, **kwargs))\n\u001b[32m    358\u001b[39m \u001b[38;5;28;01mif\u001b[39;00m ASYNCIO_ACCEPTS_CONTEXT:\n\u001b[32m--> \u001b[39m\u001b[32m359\u001b[39m     ret = \u001b[38;5;28;01mawait\u001b[39;00m asyncio.create_task(coro, context=context)\n\u001b[32m    360\u001b[39m \u001b[38;5;28;01melse\u001b[39;00m:\n\u001b[32m    361\u001b[39m     ret = \u001b[38;5;28;01mawait\u001b[39;00m coro\n",
      "\u001b[36mFile \u001b[39m\u001b[32mc:\\Users\\Asus\\PROJETOS_DEV\\RagLabs\\.venv\\Lib\\site-packages\\langgraph\\pregel\\write.py:112\u001b[39m, in \u001b[36mChannelWrite._awrite\u001b[39m\u001b[34m(self, input, config)\u001b[39m\n\u001b[32m    103\u001b[39m \u001b[38;5;28;01masync\u001b[39;00m \u001b[38;5;28;01mdef\u001b[39;00m\u001b[38;5;250m \u001b[39m\u001b[34m_awrite\u001b[39m(\u001b[38;5;28mself\u001b[39m, \u001b[38;5;28minput\u001b[39m: Any, config: RunnableConfig) -> \u001b[38;5;28;01mNone\u001b[39;00m:\n\u001b[32m    104\u001b[39m     writes = [\n\u001b[32m    105\u001b[39m         ChannelWriteEntry(write.channel, \u001b[38;5;28minput\u001b[39m, write.skip_none, write.mapper)\n\u001b[32m    106\u001b[39m         \u001b[38;5;28;01mif\u001b[39;00m \u001b[38;5;28misinstance\u001b[39m(write, ChannelWriteEntry) \u001b[38;5;129;01mand\u001b[39;00m write.value \u001b[38;5;129;01mis\u001b[39;00m PASSTHROUGH\n\u001b[32m   (...)\u001b[39m\u001b[32m    110\u001b[39m         \u001b[38;5;28;01mfor\u001b[39;00m write \u001b[38;5;129;01min\u001b[39;00m \u001b[38;5;28mself\u001b[39m.writes\n\u001b[32m    111\u001b[39m     ]\n\u001b[32m--> \u001b[39m\u001b[32m112\u001b[39m     \u001b[38;5;28;43mself\u001b[39;49m\u001b[43m.\u001b[49m\u001b[43mdo_write\u001b[49m\u001b[43m(\u001b[49m\n\u001b[32m    113\u001b[39m \u001b[43m        \u001b[49m\u001b[43mconfig\u001b[49m\u001b[43m,\u001b[49m\n\u001b[32m    114\u001b[39m \u001b[43m        \u001b[49m\u001b[43mwrites\u001b[49m\u001b[43m,\u001b[49m\n\u001b[32m    115\u001b[39m \u001b[43m        \u001b[49m\u001b[38;5;28;43mself\u001b[39;49m\u001b[43m.\u001b[49m\u001b[43mrequire_at_least_one_of\u001b[49m\u001b[43m \u001b[49m\u001b[38;5;28;43;01mif\u001b[39;49;00m\u001b[43m \u001b[49m\u001b[38;5;28;43minput\u001b[39;49m\u001b[43m \u001b[49m\u001b[38;5;129;43;01mis\u001b[39;49;00m\u001b[43m \u001b[49m\u001b[38;5;129;43;01mnot\u001b[39;49;00m\u001b[43m \u001b[49m\u001b[38;5;28;43;01mNone\u001b[39;49;00m\u001b[43m \u001b[49m\u001b[38;5;28;43;01melse\u001b[39;49;00m\u001b[43m \u001b[49m\u001b[38;5;28;43;01mNone\u001b[39;49;00m\u001b[43m,\u001b[49m\n\u001b[32m    116\u001b[39m \u001b[43m    \u001b[49m\u001b[43m)\u001b[49m\n\u001b[32m    117\u001b[39m     \u001b[38;5;28;01mreturn\u001b[39;00m \u001b[38;5;28minput\u001b[39m\n",
      "\u001b[36mFile \u001b[39m\u001b[32mc:\\Users\\Asus\\PROJETOS_DEV\\RagLabs\\.venv\\Lib\\site-packages\\langgraph\\pregel\\write.py:157\u001b[39m, in \u001b[36mChannelWrite.do_write\u001b[39m\u001b[34m(config, writes, require_at_least_one_of)\u001b[39m\n\u001b[32m    155\u001b[39m \u001b[38;5;28;01mif\u001b[39;00m require_at_least_one_of \u001b[38;5;129;01mis\u001b[39;00m \u001b[38;5;129;01mnot\u001b[39;00m \u001b[38;5;28;01mNone\u001b[39;00m:\n\u001b[32m    156\u001b[39m     \u001b[38;5;28;01mif\u001b[39;00m \u001b[38;5;129;01mnot\u001b[39;00m {chan \u001b[38;5;28;01mfor\u001b[39;00m chan, _ \u001b[38;5;129;01min\u001b[39;00m tuples} & \u001b[38;5;28mset\u001b[39m(require_at_least_one_of):\n\u001b[32m--> \u001b[39m\u001b[32m157\u001b[39m         \u001b[38;5;28;01mraise\u001b[39;00m InvalidUpdateError(\n\u001b[32m    158\u001b[39m             \u001b[33mf\u001b[39m\u001b[33m\"\u001b[39m\u001b[33mMust write to at least one of \u001b[39m\u001b[38;5;132;01m{\u001b[39;00mrequire_at_least_one_of\u001b[38;5;132;01m}\u001b[39;00m\u001b[33m\"\u001b[39m\n\u001b[32m    159\u001b[39m         )\n\u001b[32m    160\u001b[39m write: TYPE_SEND = config[CONF][CONFIG_KEY_SEND]\n\u001b[32m    161\u001b[39m write(tuples)\n",
      "\u001b[31mInvalidUpdateError\u001b[39m: Must write to at least one of ['query', 'plan', 'past_steps', 'response']",
      "During task with name '__start__' and id 'c87cec54-db4e-09b7-418d-438b12f48bd8'"
     ]
    }
   ],
   "source": [
    "result = await app.ainvoke({\n",
    "    \"input\": \"Who won the 2024 Australian Open men's title?\",\n",
    "})"
   ]
  }
 ],
 "metadata": {
  "kernelspec": {
   "display_name": ".venv",
   "language": "python",
   "name": "python3"
  },
  "language_info": {
   "codemirror_mode": {
    "name": "ipython",
    "version": 3
   },
   "file_extension": ".py",
   "mimetype": "text/x-python",
   "name": "python",
   "nbconvert_exporter": "python",
   "pygments_lexer": "ipython3",
   "version": "3.11.0"
  }
 },
 "nbformat": 4,
 "nbformat_minor": 5
}
