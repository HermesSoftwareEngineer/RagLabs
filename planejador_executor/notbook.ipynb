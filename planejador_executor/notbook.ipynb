{
 "cells": [
  {
   "cell_type": "markdown",
   "id": "fe8fa76c",
   "metadata": {},
   "source": [
    "## Agente Planejador-Executor"
   ]
  },
  {
   "cell_type": "code",
   "execution_count": 15,
   "id": "222cc138",
   "metadata": {},
   "outputs": [],
   "source": [
    "from langchain_google_vertexai import ChatVertexAI\n",
    "\n",
    "llm = ChatVertexAI(model_name=\"gemini-1.5-flash\")"
   ]
  },
  {
   "cell_type": "code",
   "execution_count": 23,
   "id": "8a13e413",
   "metadata": {},
   "outputs": [],
   "source": [
    "# Definindo o estado\n",
    "\n",
    "import operator\n",
    "from typing_extensions import TypedDict\n",
    "from typing import Annotated, List, Tuple\n",
    "\n",
    "class StatePlan(TypedDict):\n",
    "    input: str\n",
    "    plan: List[str]\n",
    "    past_steps: Annotated[List[Tuple], operator.add]\n",
    "    response: str"
   ]
  },
  {
   "cell_type": "code",
   "execution_count": 17,
   "id": "8b374eb4",
   "metadata": {},
   "outputs": [],
   "source": [
    "# Estrutura de resposta do LLM para a etapa de planejamento\n",
    "\n",
    "from pydantic import BaseModel, Field\n",
    "\n",
    "class Plan(BaseModel):\n",
    "    steps: List[str] = Field(\n",
    "        description=\"diferentes etapas a seguir, devem estar em ordem de classificação\"\n",
    "    )"
   ]
  },
  {
   "cell_type": "code",
   "execution_count": 18,
   "id": "cb8af574",
   "metadata": {},
   "outputs": [],
   "source": [
    "# Nó de planejamento\n",
    "\n",
    "from langchain_core.prompts import ChatPromptTemplate\n",
    "\n",
    "planner_prompt = ChatPromptTemplate.from_messages(\n",
    "    [\n",
    "        (\n",
    "            \"system\",\n",
    "            \"Para o objetivo dado, crie um plano simples passo a passo. \\\n",
    "            Este plano deve envolver tarefas individuais que, se executadas corretamente, produzirão a resposta correta. Não adicione nenhuma etapa supérflua. \\\n",
    "            O resultado da etapa final deve ser a resposta final. Certifique-se de que cada etapa tenha todas as informações necessárias - não pule etapas\"\n",
    "        ),\n",
    "        (\n",
    "            \"placeholder\",\n",
    "            \"{messages}\"\n",
    "        ),\n",
    "    ]\n",
    ")\n",
    "\n",
    "planner = planner_prompt | llm.with_structured_output(Plan)"
   ]
  },
  {
   "cell_type": "code",
   "execution_count": 19,
   "id": "3c28e413",
   "metadata": {},
   "outputs": [
    {
     "data": {
      "text/plain": [
       "Plan(steps=['Verificar se a imobiliária Stylus possui apartamentos para alugar na Varjota (Fortaleza-CE).', 'Se houver, informar os detalhes dos apartamentos disponíveis (endereço, tipo, preço, etc.).', 'Se não houver, informar que não há apartamentos disponíveis na Varjota (Fortaleza-CE).'])"
      ]
     },
     "execution_count": 19,
     "metadata": {},
     "output_type": "execute_result"
    }
   ],
   "source": [
    "# Testando o planner\n",
    "\n",
    "planner.invoke(\n",
    "    {\n",
    "        \"messages\": [\n",
    "            (\"user\", \"Olá imobiliária stylus, tem apartamentos para alugar na varjota (fortaleza-ce)?\")\n",
    "        ]\n",
    "    }\n",
    ")\n"
   ]
  },
  {
   "cell_type": "code",
   "execution_count": 20,
   "id": "0b8ea12a",
   "metadata": {},
   "outputs": [
    {
     "name": "stderr",
     "output_type": "stream",
     "text": [
      "Key '$defs' is not supported in schema, ignoring\n"
     ]
    }
   ],
   "source": [
    "# Etapa de replanejamento\n",
    "\n",
    "from typing import Union\n",
    "\n",
    "class Response(BaseModel):\n",
    "    \"\"\"Responder ao usuário\"\"\"\n",
    "    response: str\n",
    "\n",
    "class Act(BaseModel):\n",
    "    \"\"\"Ação a ser executada\"\"\"\n",
    "\n",
    "    action: Union[Response, Plan] = Field(\n",
    "        description=\"Ação a ser executada. Se você quiser responder ao usuário, use Response. \"\n",
    "        \"Se você precisar usar mais ferramentas para obter a resposta, use Plan.\"\n",
    "    )\n",
    "\n",
    "replanner_prompt = ChatPromptTemplate.from_messages(\n",
    "    [\n",
    "        (\n",
    "            \"system\",\n",
    "            \"\"\"Para o objetivo dado, crie um plano simples passo a passo. \\\n",
    "            Este plano deve envolver tarefas individuais que, se executadas corretamente, produzirão a resposta correta. Não adicione etapas supérfluas. \\\n",
    "            O resultado da etapa final deve ser a resposta final. Certifique-se de que cada etapa tenha todas as informações necessárias - não pule etapas.\n",
    "\n",
    "            Seu objetivo era este:\n",
    "            {input}\n",
    "\n",
    "            Seu plano original era este:\n",
    "            {plan}\n",
    "\n",
    "            Você atualmente fez as seguintes etapas:\n",
    "            {past_steps}\n",
    "\n",
    "            Atualize seu plano adequadamente. Se não forem necessárias mais etapas e você puder retornar ao usuário, responda com isso. Caso contrário, preencha o plano. Adicione apenas etapas ao plano que ainda PRECISAM ser feitas. Não retorne etapas feitas anteriormente como parte do plano.\"\"\"\n",
    "        ),\n",
    "        (\n",
    "            \"placeholder\",\n",
    "            \"{messages}\"\n",
    "        )\n",
    "    ]\n",
    ")\n",
    "\n",
    "replanner = replanner_prompt | llm.with_structured_output(Act)"
   ]
  },
  {
   "cell_type": "code",
   "execution_count": 26,
   "id": "a754069f",
   "metadata": {},
   "outputs": [],
   "source": [
    "# elaborando as funções dos nós\n",
    "\n",
    "from langgraph.graph import END\n",
    "\n",
    "async def execute_step(state: StatePlan):\n",
    "    plan = state[\"plan\"]\n",
    "    plan_str = \"\\n\".join(f\"{i+1}. {step}\" for i, step in enumerate(plan))\n",
    "    task = plan[0]\n",
    "    task_formatted = f\"\"\"\n",
    "        Para o seguinte plano: {plan_str}\\n\\n\n",
    "        Você é responsável pela tarefa {1}: {task}.\n",
    "    \"\"\"\n",
    "    agent_response = await llm.ainvoke(\n",
    "        {\n",
    "            \"messages\": [\n",
    "                (\"user\", task_formatted)\n",
    "            ]\n",
    "        }\n",
    "    )\n",
    "\n",
    "    return {\n",
    "        \"past_steps\": [(task, agent_response[\"messages\"][-1].content)]\n",
    "    }\n",
    "\n",
    "async def plan_step(state: StatePlan):\n",
    "    plan = await planner.ainvoke(\n",
    "        {\n",
    "            \"messages\": [\n",
    "                (\"user\", state[\"input\"])\n",
    "            ]\n",
    "        }\n",
    "    )\n",
    "\n",
    "    return {\n",
    "        \"plan\": plan.steps\n",
    "    }\n",
    "\n",
    "async def replan_steps(state: StatePlan):\n",
    "    output = await replanner.ainvoke(state)\n",
    "    if isinstance(output.action, Response):\n",
    "        return {\"response\": output.action.response}\n",
    "    else:\n",
    "        return {\"plan\": output.acition.steps}\n",
    "    \n",
    "async def should_end(state: StatePlan):\n",
    "    if \"response\" in state and state[\"response\"]:\n",
    "        return END\n",
    "    else:\n",
    "        return \"agent\""
   ]
  },
  {
   "cell_type": "code",
   "execution_count": null,
   "id": "f9967fbf",
   "metadata": {},
   "outputs": [],
   "source": [
    "# Construindo o gráfico\n",
    "\n",
    "from langgraph.graph import StateGraph, START\n",
    "from langgraph.checkpoint.memory import MemorySaver\n",
    "\n",
    "graph_builder = StateGraph(StatePlan)\n",
    "\n",
    "# Definindo os nós\n",
    "graph_builder.add_node(\"planner\", plan_step)\n",
    "graph_builder.add_node(\"agent\", execute_step)\n",
    "graph_builder.add_node(\"replan\", replan_steps)\n",
    "\n",
    "# Definindo as pontes\n",
    "graph_builder.add_edge(START, \"planner\")\n",
    "graph_builder.add_edge(\"planner\", \"agent\")\n",
    "graph_builder.add_edge(\"agent\", \"replan\")\n",
    "graph_builder.add_conditional_edges(\"replan\", should_end, [\"agent\", END])\n",
    "\n",
    "# Compilando o grafo\n",
    "app = graph_builder.compile()"
   ]
  },
  {
   "cell_type": "code",
   "execution_count": 2,
   "id": "53497314",
   "metadata": {},
   "outputs": [
    {
     "ename": "NameError",
     "evalue": "name 'app' is not defined",
     "output_type": "error",
     "traceback": [
      "\u001b[31m---------------------------------------------------------------------------\u001b[39m",
      "\u001b[31mNameError\u001b[39m                                 Traceback (most recent call last)",
      "\u001b[36mCell\u001b[39m\u001b[36m \u001b[39m\u001b[32mIn[2]\u001b[39m\u001b[32m, line 3\u001b[39m\n\u001b[32m      1\u001b[39m \u001b[38;5;28;01mfrom\u001b[39;00m\u001b[38;5;250m \u001b[39m\u001b[34;01mIPython\u001b[39;00m\u001b[34;01m.\u001b[39;00m\u001b[34;01mdisplay\u001b[39;00m\u001b[38;5;250m \u001b[39m\u001b[38;5;28;01mimport\u001b[39;00m Image, display\n\u001b[32m----> \u001b[39m\u001b[32m3\u001b[39m display(Image(\u001b[43mapp\u001b[49m.get_graph(xray=\u001b[38;5;28;01mTrue\u001b[39;00m).draw_mermaid_png()))\n",
      "\u001b[31mNameError\u001b[39m: name 'app' is not defined"
     ]
    }
   ],
   "source": [
    "from IPython.display import Image, display\n",
    "\n",
    "display(Image(app.get_graph(xray=True).draw_mermaid_png()))"
   ]
  }
 ],
 "metadata": {
  "kernelspec": {
   "display_name": ".venv",
   "language": "python",
   "name": "python3"
  },
  "language_info": {
   "codemirror_mode": {
    "name": "ipython",
    "version": 3
   },
   "file_extension": ".py",
   "mimetype": "text/x-python",
   "name": "python",
   "nbconvert_exporter": "python",
   "pygments_lexer": "ipython3",
   "version": "3.11.9"
  }
 },
 "nbformat": 4,
 "nbformat_minor": 5
}
