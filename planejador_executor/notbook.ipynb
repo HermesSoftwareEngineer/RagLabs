{
 "cells": [
  {
   "cell_type": "markdown",
   "id": "fe8fa76c",
   "metadata": {},
   "source": [
    "## Agente Planejador-Executor"
   ]
  },
  {
   "cell_type": "code",
   "execution_count": 3,
   "id": "222cc138",
   "metadata": {},
   "outputs": [
    {
     "data": {
      "text/plain": [
       "'Olá, Mundo! 👋\\n\\nQue bom te ver por aqui! 😄 \\n\\nO que você gostaria de fazer hoje? 🤔 \\n'"
      ]
     },
     "execution_count": 3,
     "metadata": {},
     "output_type": "execute_result"
    }
   ],
   "source": [
    "from langchain_google_vertexai import ChatVertexAI\n",
    "\n",
    "llm = ChatVertexAI(model_name=\"gemini-1.5-flash\")\n",
    "\n",
    "llm.invoke(\"Olá, Mundo!\").content"
   ]
  },
  {
   "cell_type": "code",
   "execution_count": 7,
   "id": "8a13e413",
   "metadata": {},
   "outputs": [],
   "source": [
    "# Definindo o estado\n",
    "\n",
    "from typing_extensions import TypedDict\n",
    "from typing import List, Annotated\n",
    "import operator\n",
    "\n",
    "class StatePlan(TypedDict):\n",
    "    input: str\n",
    "    plan: List[str]\n",
    "    past_steps: Annotated[List[tuple], operator.add]\n",
    "    response: str"
   ]
  },
  {
   "cell_type": "code",
   "execution_count": 8,
   "id": "8b374eb4",
   "metadata": {},
   "outputs": [],
   "source": [
    "# Estrutura de resposta do LLM para a etapa de planejamento\n",
    "\n",
    "from pydantic import BaseModel, Field\n",
    "\n",
    "class Plan(BaseModel):\n",
    "    \"\"\"Planeje seguir no futuro\"\"\"\n",
    "    plan: List[str] = Field(\n",
    "        description=\"Lista de etapas para seguir, devem estar classificadas em ordem de execução\"\n",
    "    )"
   ]
  },
  {
   "cell_type": "code",
   "execution_count": 17,
   "id": "cb8af574",
   "metadata": {},
   "outputs": [],
   "source": [
    "# Nó de planejamento\n",
    "\n",
    "from langchain_core.prompts import ChatPromptTemplate\n",
    "\n",
    "planner_prompt = ChatPromptTemplate.from_messages(\n",
    "    [\n",
    "        (\n",
    "            \"system\",\n",
    "            \"Planeje as atividades que precisam ser seguidas para responder a pergunta do usuário\"\n",
    "        ),\n",
    "        (\n",
    "            \"placeholder\",\n",
    "            \"{messages}\"\n",
    "        ),\n",
    "    ]\n",
    ")\n",
    "\n",
    "llm_estruturado = llm.with_structured_output(Plan)\n",
    "planner = planner_prompt | llm_estruturado"
   ]
  },
  {
   "cell_type": "code",
   "execution_count": 19,
   "id": "3c28e413",
   "metadata": {},
   "outputs": [
    {
     "data": {
      "text/plain": [
       "Plan(plan=['Obter dados de imóveis para alugar em Fortaleza', 'Filtrar os dados para encontrar apenas apartamentos', 'Retornar a lista de apartamentos disponíveis'])"
      ]
     },
     "execution_count": 19,
     "metadata": {},
     "output_type": "execute_result"
    }
   ],
   "source": [
    "# Testando o planner\n",
    "\n",
    "planner.invoke(\n",
    "    {\n",
    "        \"messages\": [\n",
    "            (\"user\", \"Quais os apartamentos disponíveis para locação em Fortaleza? \")\n",
    "        ]\n",
    "    }\n",
    ")"
   ]
  }
 ],
 "metadata": {
  "kernelspec": {
   "display_name": ".venv",
   "language": "python",
   "name": "python3"
  },
  "language_info": {
   "codemirror_mode": {
    "name": "ipython",
    "version": 3
   },
   "file_extension": ".py",
   "mimetype": "text/x-python",
   "name": "python",
   "nbconvert_exporter": "python",
   "pygments_lexer": "ipython3",
   "version": "3.11.0"
  }
 },
 "nbformat": 4,
 "nbformat_minor": 5
}
